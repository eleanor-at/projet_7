{
 "cells": [
  {
   "cell_type": "code",
   "execution_count": 357,
   "id": "a816c00b-aae5-45c0-ab96-da2dec85a956",
   "metadata": {},
   "outputs": [],
   "source": [
    "import cv2\n",
    "import matplotlib.pyplot as plt\n",
    "import numpy as np"
   ]
  },
  {
   "cell_type": "code",
   "execution_count": 374,
   "id": "aff27584-6b93-4005-a7af-535ac414d21c",
   "metadata": {},
   "outputs": [],
   "source": [
    "def affichage(dic):\n",
    "    #fonction qui permet d'afficher une grille d'images contenues dans un dictionnaire\n",
    "    for i, (title, img) in enumerate(dic.items()):\n",
    "        if i % 2 == 0:\n",
    "            plt.figure(figsize=(40, 40))\n",
    "        plt.subplot(1, 2, i % 2 + 1)\n",
    "        plt.imshow(img, cmap='gray')\n",
    "        plt.title(title, fontsize=40)\n",
    "        plt.axis('off')\n",
    "        if i % 2 == 1 or i == len(dic) - 1:\n",
    "            plt.tight_layout()\n",
    "            plt.show()"
   ]
  },
  {
   "cell_type": "code",
   "execution_count": 370,
   "id": "742a5b56-3063-40a7-8ea9-74abf044ee8d",
   "metadata": {},
   "outputs": [],
   "source": [
    "def cosine(a,b):\n",
    "    #algorithme de comparaison cosine de deux vecteurs numpy de meme dimension\n",
    "    #plus la valeur est proche de 1, plus les vecteurs sont proches\n",
    "    return dot(a,b)/(norm(a)*norm(b))"
   ]
  },
  {
   "cell_type": "code",
   "execution_count": null,
   "id": "861cef8f-e48c-4981-abf8-a5c7a4e78075",
   "metadata": {},
   "outputs": [],
   "source": [
    "def cos_resize(elem):\n",
    "    #permet de mettre deux vecteurs de dimensions differentes à la meme dimension et de les normaliser\n",
    "    #pour ensuite les comparer via la similarité cosine\n",
    "\n",
    "    _, thresh = cv2.threshold(elem, 0, 255, cv2.THRESH_BINARY_INV + cv2.THRESH_OTSU)\n",
    "    cropped = thresh.astype(np.float32) / 255.\n",
    "    cropped =  (elem - np.mean(elem)) / (np.std(elem) + 1e-6)\n",
    "    cropped = cv2.resize(cropped, (224, 24), interpolation=cv2.INTER_AREA)\n",
    "    return cropped"
   ]
  },
  {
   "cell_type": "code",
   "execution_count": null,
   "id": "7c9ddebb-0bb8-4378-944d-a57c88a4361b",
   "metadata": {},
   "outputs": [],
   "source": [
    "def image_cut(img): #récupère etiquette de texte original la plus fine a partir d'une etiquette grossière, \n",
    "    #l'image doit etre donnée deja en noir et blanc\n",
    "    \n",
    "    #étape de prétraitement de l'image, déjà en noir en blanc\n",
    "    _, binary = cv2.threshold(img, 128, 255, cv2.THRESH_BINARY)\n",
    "    kernel = cv2.getStructuringElement(cv2.MORPH_RECT, (3, 3))\n",
    "    dilated = cv2.dilate(binary, kernel, iterations=1)\n",
    "\n",
    "    #suppression lignes totalement blanches\n",
    "    masque_lignes = ~np.all(dilated == 255, axis=1)\n",
    "    lignes_texte = np.where(masque_lignes)[0]\n",
    "\n",
    "    if len(lignes_texte) == 0: #si l'image est déjà blanche on la renvoie\n",
    "        return img \n",
    "\n",
    "    img_lignes = dilated[lignes_texte[0]:lignes_texte[-1]+1, :]\n",
    "\n",
    "    #suppression des colonnes totalement blanches\n",
    "    masque_colonnes = ~np.all(img_lignes == 255, axis=0)\n",
    "    colonnes_texte = np.where(masque_colonnes)[0]\n",
    "\n",
    "    a = lignes_texte[0]\n",
    "    a_bis = lignes_texte[-1] + 1\n",
    "    b = colonnes_texte[0]\n",
    "    b_bis = colonnes_texte[-1] + 1\n",
    "\n",
    "    imgfinale = img[a: a_bis, b : b_bis] #memes coord que le rectangle trouvé mais sur image originale\n",
    "\n",
    "    return imgfinale\n"
   ]
  },
  {
   "cell_type": "code",
   "execution_count": 386,
   "id": "0618cf37-5c13-4e6a-8ca9-f1628b7dfab9",
   "metadata": {},
   "outputs": [],
   "source": [
    "#récupération de données servant à établir les étiquettes de versio_antiqua et vulgata_nova pour l'identification des titres\n",
    "\n",
    "im0064_or = cv2.imread('images/image-0064.png')\n",
    "im0971_or = cv2.imread('images/image-0971.png')\n",
    "im0088_or = cv2.imread('images/image-0088.png')\n",
    "im0851_or = cv2.imread('images/image-0851.png')\n",
    "im0479_or = cv2.imread('images/image-0479.png')\n",
    "\n",
    "im0064 = cv2.cvtColor(image_original, cv2.COLOR_BGR2GRAY)\n",
    "im0971 = cv2.cvtColor(im0971_or, cv2.COLOR_BGR2GRAY)\n",
    "im0088 = cv2.cvtColor(im0088_or, cv2.COLOR_BGR2GRAY)\n",
    "im0851 = cv2.cvtColor(im0851_or, cv2.COLOR_BGR2GRAY)\n",
    "im0479 = cv2.cvtColor(im0479_or, cv2.COLOR_BGR2GRAY)\n",
    "\n",
    "im0064_ant = im0064[230:260, 740:1040] #0064\n",
    "im0088_ant = im0088[245:280, 770:1025] #0088\n",
    "im0971_ant = im0971[220:245, 400:682] #0971\n",
    "im0851_ant = im0851[230:265, 440:750] #0851\n",
    "im0479_ant = im0479[210:240, 340:700] # 0479\n",
    "\n",
    "#etiquettes grossières sur image originale pour versio_antiqua\n",
    "li_antiqua_before = [im0064_ant, im0088_ant, im0971_ant, im0851_ant, im0479_ant]\n",
    "\n",
    "\n",
    "im0064_vul = im0064[230:260, 270:550]\n",
    "im0088_vul = im0088[240:280, 300:550]\n",
    "im0851_vul = im0851[240:270, 950:1200]\n",
    "im0479_vul = im0479[210:235, 900:1150]\n",
    "im0971_vul = im0971[220:250, 910:1150]\n",
    "\n",
    "#etiquettes grossières sur image originale pour vulgata_nova\n",
    "li_vulgata_before = [im0064_vul, im0088_vul, im0851_vul, im0479_vul, im0971_vul]\n",
    "\n",
    "\n",
    "#obtention des étiquettes fines sur versio_antiqua et vulgata_nova\n",
    "li_antiqua = [image_cut(li_antiqua_before[k]) for k in range(len(li_antiqua_before))]\n",
    "li_vulgata = [image_cut(li_vulgata_original[k]) for k in range(len(li_vulgata_original))]\n",
    "\n"
   ]
  },
  {
   "cell_type": "code",
   "execution_count": 387,
   "id": "f24da2a6-5028-4bff-9df4-314c8db164f4",
   "metadata": {},
   "outputs": [],
   "source": [
    "#liste des comparaisons cosine des etiquettes versio_antiqua entre elles pour verifier leur correspondance\n",
    "li_antiqua_cosine = [] \n",
    "\n",
    "for i in range(len(li_antiqua)-1):\n",
    "    for j in range(i+1, len(li_antiqua)):\n",
    "        li_antiqua_cosine.append(cosine(cos_resize(li_antiqua[i]).flatten(), cos_resize(li_antiqua[j]).flatten()))\n",
    "\n",
    "\n",
    "#liste des comparaisons cosine des etiquettes vulgata_nova entre elles pour verifier leur correspondance\n",
    "li_vulgata_cosine = []\n",
    "\n",
    "for i in range(len(li_vulgata)-1):\n",
    "    for j in range(i+1, len(li_vulgata)):\n",
    "        li_vulgata_cosine.append(cosine(cos_resize(li_vulgata[i]).flatten(), cos_resize(li_antiqua[j]).flatten()))\n",
    "\n",
    "\n",
    "#liste des comparaisons cosine des etiquettes vulgata_nova et versio_antiqua entre elles pour verifier qu'elles ne correspondent pas\n",
    "vulgata_antiqua = []\n",
    "for elem1 in li_antiqua:\n",
    "    for elem2 in li_vulgata:\n",
    "        vulgata_antiqua.append(cosine(cos_resize(elem1).flatten(), cos_resize(elem2).flatten()))\n",
    "\n",
    "\n",
    "#on obtient une reconnaissance satisfaisante des etiquettes versio antiqua entre elles, celle entre les vulgata_nova\n",
    "#n'est pas très concluante mais une etiquette versio_antiqua n'est jamais assimilée à une etiquette vulgata_antiqua\n",
    "#ce qui est le plus important dans notre cas"
   ]
  },
  {
   "cell_type": "code",
   "execution_count": 389,
   "id": "436f9a5b-253c-4226-be85-faf21f1bf4e7",
   "metadata": {},
   "outputs": [],
   "source": [
    "def test_antiqua_vulgata(img): \n",
    "    #donne appartenance de l'étiquette à antiqua ou vulgata pour une image deja en noir et blanc\n",
    "    test = image_cut(img)\n",
    "    test = cos_resize(test)\n",
    "    \n",
    "    cosine_test_antiqua = []\n",
    "    cosine_test_vulgata = []\n",
    "    for i in range(len(li_antiqua)):\n",
    "        cosine_test_antiqua.append(cosine(test.flatten(), cos_resize(li_antiqua[i]).flatten()))\n",
    "        cosine_test_vulgata.append(cosine(test.flatten(), cos_resize(li_vulgata[i]).flatten()))\n",
    "\n",
    "    max_antiqua = np.max(cosine_test_antiqua)\n",
    "    max_vulgata = np.max(cosine_test_vulgata)\n",
    "\n",
    "    if max_antiqua > max_vulgata and max_antiqua>0.40:\n",
    "        return \"versio antiqua\"\n",
    "\n",
    "    elif max_vulgata > max_antiqua and max_vulgata>0.40:\n",
    "        return \"vulgata nova\"\n",
    "\n",
    "    return \"autre\"\n"
   ]
  },
  {
   "cell_type": "code",
   "execution_count": 400,
   "id": "cdc5e51d-3351-41b1-b661-74c1014cdfc8",
   "metadata": {},
   "outputs": [
    {
     "data": {
      "text/plain": [
       "'vulgata nova'"
      ]
     },
     "execution_count": 400,
     "metadata": {},
     "output_type": "execute_result"
    }
   ],
   "source": [
    "im0184_or = cv2.imread('images/image-0184.png')\n",
    "img0184 = cv2.cvtColor(im0184_or[260:290, 750:1000], cv2.COLOR_BGR2GRAY)\n",
    "\n",
    "\n",
    "im0788_or = cv2.imread('images/image-0788.png')\n",
    "im0788 = cv2.cvtColor(im0788_or, cv2.COLOR_BGR2GRAY)\n",
    "\n",
    "\n",
    "test_antiqua_vulgata(im0788[240:280, 260:520])\n"
   ]
  }
 ],
 "metadata": {
  "kernelspec": {
   "display_name": "Python 3 (ipykernel)",
   "language": "python",
   "name": "python3"
  },
  "language_info": {
   "codemirror_mode": {
    "name": "ipython",
    "version": 3
   },
   "file_extension": ".py",
   "mimetype": "text/x-python",
   "name": "python",
   "nbconvert_exporter": "python",
   "pygments_lexer": "ipython3",
   "version": "3.12.4"
  }
 },
 "nbformat": 4,
 "nbformat_minor": 5
}
